{
 "cells": [
  {
   "cell_type": "code",
   "execution_count": null,
   "metadata": {
    "collapsed": true
   },
   "outputs": [],
   "source": [
    "%matplotlib notebook"
   ]
  },
  {
   "cell_type": "markdown",
   "metadata": {},
   "source": [
    "# Iris/dask dataset loading investigation\n",
    "\n",
    "## Introduction\n",
    "\n",
    "This demos using dask functionality beyond the `array` module to help with Iris processing. Specifically, in this notebook we will demo alternative approaches for loading numerous and/or large datasets into Iris.\n",
    "\n",
    "Three approaches will be compared:\n",
    "\n",
    "* The standard Iris load\n",
    "* ~~Wrapping Iris load calls in a **dask bag** generated from a sequence (this is slow so will not be investigated further)~~\n",
    "* Wrapping Iris load calls in a **dask bag** generated from a **delayed** call\n",
    "\n",
    "These options will be compared with two simple metrics:\n",
    "\n",
    "- Ease of use\n",
    "- Runtime"
   ]
  },
  {
   "cell_type": "markdown",
   "metadata": {},
   "source": [
    "## Setup\n",
    "\n",
    "Below are the functions used to load the dataset. There is one function for each of the standard Iris load and the bag generated from a sequence. The bag generated from a delayed call requires two functions; one which is delayed, one to call the delayed function.\n",
    "\n",
    "### Imports"
   ]
  },
  {
   "cell_type": "code",
   "execution_count": null,
   "metadata": {
    "collapsed": true
   },
   "outputs": [],
   "source": [
    "import os\n",
    "import time\n",
    "\n",
    "import dask.bag as db\n",
    "import dask.delayed as delayed\n",
    "import iris"
   ]
  },
  {
   "cell_type": "code",
   "execution_count": null,
   "metadata": {
    "collapsed": false
   },
   "outputs": [],
   "source": [
    "print iris"
   ]
  },
  {
   "cell_type": "markdown",
   "metadata": {},
   "source": [
    "### Timer function\n",
    "\n",
    "A simple function that records the runtime of a supplied function. This will be useful for capturing results; otherwise within this notebook we can just make use of the `%timeit` magic. "
   ]
  },
  {
   "cell_type": "code",
   "execution_count": null,
   "metadata": {
    "collapsed": false
   },
   "outputs": [],
   "source": [
    "def timer(func, *funcargs):\n",
    "    t0 = time.time()\n",
    "    func(*funcargs)\n",
    "    t1 = time.time()\n",
    "    return t1 - t0\n",
    "\n",
    "def repeater(repeat, *timerargs):\n",
    "    if repeat <= 1:\n",
    "        result = timer(*timerargs)\n",
    "    else:\n",
    "        result = [timer(*timerargs) for _ in range(repeat)]\n",
    "    return result"
   ]
  },
  {
   "cell_type": "markdown",
   "metadata": {},
   "source": [
    "### Runner functions"
   ]
  },
  {
   "cell_type": "code",
   "execution_count": null,
   "metadata": {
    "collapsed": true
   },
   "outputs": [],
   "source": [
    "def direct_load(fp, pattern):\n",
    "    \"\"\"Load datasets at the filepath `fp` using Iris.\"\"\"\n",
    "    iris.load(os.path.join(fp, pattern))\n",
    "\n",
    "def delay_wrapper(fp, pattern):\n",
    "    dlyd = delayed(iris.load)(fp, pattern))\n",
    "    cs = db.from_delayed(dlyd)\n",
    "    iris.cube.CubeList(cs.compute(get=dask.multiprocessing.get))"
   ]
  },
  {
   "cell_type": "markdown",
   "metadata": {},
   "source": [
    "## Test!\n",
    "\n",
    "Run each loader on some sample data and print the output.\n",
    "\n",
    "Using **sample PP data** at `/project/euro4_hindcast/WIND-ATLAS_EURO4-RERUN/2015/06/18Z`:"
   ]
  },
  {
   "cell_type": "code",
   "execution_count": null,
   "metadata": {
    "collapsed": true
   },
   "outputs": [],
   "source": [
    "fp = '/project/euro4_hindcast/WIND-ATLAS_EURO4-RERUN/2015/06/18Z'\n",
    "fn = 'EURO4_2015060[1-3].pp'\n",
    "seq = os.listdir(fp)\n",
    "reps = 3"
   ]
  },
  {
   "cell_type": "code",
   "execution_count": null,
   "metadata": {
    "collapsed": false
   },
   "outputs": [],
   "source": [
    "direct_load_vals_pp = repeater(reps, direct_load, fp, fn)\n",
    "# with_bag_vals_pp = repeater(reps, withbag, fp, seq)\n",
    "delay_vals_v2_pp = repeater(reps, delay_wrapper_v2, fp, fn)"
   ]
  },
  {
   "cell_type": "code",
   "execution_count": null,
   "metadata": {
    "collapsed": false
   },
   "outputs": [],
   "source": [
    "fig = plt.figure(figsize=(9, 6))\n",
    "plt.boxplot([direct_load_vals_pp, delay_vals_v2_pp],\n",
    "            vert=True, labels=['direct', 'delay'])\n",
    "plt.show()"
   ]
  },
  {
   "cell_type": "code",
   "execution_count": null,
   "metadata": {
    "collapsed": true
   },
   "outputs": [],
   "source": []
  }
 ],
 "metadata": {
  "kernelspec": {
   "display_name": "Python 2",
   "language": "python",
   "name": "python2"
  },
  "language_info": {
   "codemirror_mode": {
    "name": "ipython",
    "version": 2
   },
   "file_extension": ".py",
   "mimetype": "text/x-python",
   "name": "python",
   "nbconvert_exporter": "python",
   "pygments_lexer": "ipython2",
   "version": "2.7.12"
  }
 },
 "nbformat": 4,
 "nbformat_minor": 0
}
