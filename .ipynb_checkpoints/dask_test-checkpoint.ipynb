{
 "cells": [
  {
   "cell_type": "code",
   "execution_count": 1,
   "metadata": {
    "collapsed": true,
    "deletable": true,
    "editable": true
   },
   "outputs": [],
   "source": [
    "from distributed import Client"
   ]
  },
  {
   "cell_type": "code",
   "execution_count": 3,
   "metadata": {
    "collapsed": false,
    "deletable": true,
    "editable": true
   },
   "outputs": [
    {
     "data": {
      "text/plain": [
       "<Client: scheduler='tcp://expspicesrv033:8786' processes=1 cores=48>"
      ]
     },
     "execution_count": 3,
     "metadata": {},
     "output_type": "execute_result"
    }
   ],
   "source": [
    "c = Client('expspicesrv033:8786')\n",
    "c"
   ]
  },
  {
   "cell_type": "code",
   "execution_count": 4,
   "metadata": {
    "collapsed": true,
    "deletable": true,
    "editable": true
   },
   "outputs": [],
   "source": [
    "import dask.bag as db"
   ]
  },
  {
   "cell_type": "code",
   "execution_count": 5,
   "metadata": {
    "collapsed": false,
    "deletable": true,
    "editable": true
   },
   "outputs": [
    {
     "name": "stderr",
     "output_type": "stream",
     "text": [
      "/home/h01/ahilson/.local/lib/python2.7/site-packages/iris/fileformats/grib/__init__.py:59: IrisDeprecation: The module iris.fileformats.grib is deprecated since v1.10. Please install the package 'iris_grib' package instead.\n",
      "  \"The module iris.fileformats.grib is deprecated since v1.10. \"\n"
     ]
    }
   ],
   "source": [
    "import iris\n",
    "from dask import delayed"
   ]
  },
  {
   "cell_type": "code",
   "execution_count": 8,
   "metadata": {
    "collapsed": false,
    "deletable": true,
    "editable": true
   },
   "outputs": [
    {
     "name": "stderr",
     "output_type": "stream",
     "text": [
      "/home/h01/ahilson/.local/lib/python2.7/site-packages/iris/fileformats/rules.py:944: UserWarning: Unable to create instance of HybridHeightFactory. The source data contains no field(s) for 'orography'.\n",
      "  warnings.warn(msg.format(factory=factory_name))\n"
     ]
    },
    {
     "data": {
      "text/plain": [
       "[<iris 'Cube' of wet_bulb_freezing_level_altitude / (m) (latitude: 600; longitude: 800)>,\n",
       "<iris 'Cube' of wet_bulb_potential_temperature / (K) (pressure: 3; latitude: 600; longitude: 800)>,\n",
       "<iris 'Cube' of air_pressure_at_sea_level / (Pa) (latitude: 600; longitude: 800)>,\n",
       "<iris 'Cube' of air_temperature / (K) (latitude: 600; longitude: 800)>,\n",
       "<iris 'Cube' of air_temperature / (K) (latitude: 600; longitude: 800)>,\n",
       "<iris 'Cube' of air_temperature / (K) (latitude: 600; longitude: 800)>,\n",
       "<iris 'Cube' of air_temperature / (K) (pressure: 16; latitude: 600; longitude: 800)>,\n",
       "<iris 'Cube' of dew_point_temperature / (K) (latitude: 600; longitude: 800)>,\n",
       "<iris 'Cube' of fog_area_fraction / (1) (latitude: 600; longitude: 800)>,\n",
       "<iris 'Cube' of geopotential_height / (m) (pressure: 9; latitude: 600; longitude: 800)>,\n",
       "<iris 'Cube' of high_type_cloud_area_fraction / (1) (latitude: 600; longitude: 800)>,\n",
       "<iris 'Cube' of low_type_cloud_area_fraction / (1) (latitude: 600; longitude: 800)>,\n",
       "<iris 'Cube' of medium_type_cloud_area_fraction / (1) (latitude: 600; longitude: 800)>,\n",
       "<iris 'Cube' of relative_humidity / (%) (latitude: 600; longitude: 800)>,\n",
       "<iris 'Cube' of relative_humidity / (%) (pressure: 16; latitude: 600; longitude: 800)>,\n",
       "<iris 'Cube' of stratiform_rainfall_amount / (kg m-2) (latitude: 600; longitude: 800)>,\n",
       "<iris 'Cube' of stratiform_snowfall_amount / (kg m-2) (latitude: 600; longitude: 800)>,\n",
       "<iris 'Cube' of surface_downward_eastward_stress / (Pa) (latitude: 600; longitude: 800)>,\n",
       "<iris 'Cube' of surface_downward_northward_stress / (Pa) (latitude: 601; longitude: 800)>,\n",
       "<iris 'Cube' of visibility_in_air / (m) (latitude: 600; longitude: 800)>,\n",
       "<iris 'Cube' of wind_speed_of_gust / (m s-1) (latitude: 600; longitude: 800)>,\n",
       "<iris 'Cube' of wind_speed_of_gust / (m s-1) (latitude: 600; longitude: 800)>,\n",
       "<iris 'Cube' of x_wind / (m s-1) (latitude: 601; longitude: 800)>,\n",
       "<iris 'Cube' of x_wind / (m s-1) (pressure: 16; latitude: 601; longitude: 800)>,\n",
       "<iris 'Cube' of x_wind / (m s-1) (latitude: 600; longitude: 800)>,\n",
       "<iris 'Cube' of y_wind / (m s-1) (latitude: 601; longitude: 800)>,\n",
       "<iris 'Cube' of y_wind / (m s-1) (pressure: 16; latitude: 601; longitude: 800)>,\n",
       "<iris 'Cube' of y_wind / (m s-1) (latitude: 601; longitude: 800)>]"
      ]
     },
     "execution_count": 8,
     "metadata": {},
     "output_type": "execute_result"
    }
   ],
   "source": [
    "\n",
    "@delayed\n",
    "def loading(loc):\n",
    "    return iris.load(loc)\n",
    "\n",
    "cubes = iris.load('/spice/project/informatics_lab/mogreps-g/2016/prods_op_mogreps-g_20160101_00_00_006.pp')\n",
    "cubes"
   ]
  },
  {
   "cell_type": "code",
   "execution_count": 11,
   "metadata": {
    "collapsed": false
   },
   "outputs": [
    {
     "data": {
      "text/plain": [
       "['00', '01', '02', '03', '04', '05', '06', '07', '08', '09', '10']"
      ]
     },
     "execution_count": 11,
     "metadata": {},
     "output_type": "execute_result"
    }
   ],
   "source": [
    "members = [str(x).zfill(2) for x in range(0, 11)]\n",
    "members"
   ]
  },
  {
   "cell_type": "code",
   "execution_count": 12,
   "metadata": {
    "collapsed": false
   },
   "outputs": [
    {
     "data": {
      "text/plain": [
       "['/spice/project/informatics_lab/mogreps-g/2016/prods_op_mogreps-g_20160101_00_00_006.pp',\n",
       " '/spice/project/informatics_lab/mogreps-g/2016/prods_op_mogreps-g_20160101_00_01_006.pp',\n",
       " '/spice/project/informatics_lab/mogreps-g/2016/prods_op_mogreps-g_20160101_00_02_006.pp',\n",
       " '/spice/project/informatics_lab/mogreps-g/2016/prods_op_mogreps-g_20160101_00_03_006.pp',\n",
       " '/spice/project/informatics_lab/mogreps-g/2016/prods_op_mogreps-g_20160101_00_04_006.pp',\n",
       " '/spice/project/informatics_lab/mogreps-g/2016/prods_op_mogreps-g_20160101_00_05_006.pp',\n",
       " '/spice/project/informatics_lab/mogreps-g/2016/prods_op_mogreps-g_20160101_00_06_006.pp',\n",
       " '/spice/project/informatics_lab/mogreps-g/2016/prods_op_mogreps-g_20160101_00_07_006.pp',\n",
       " '/spice/project/informatics_lab/mogreps-g/2016/prods_op_mogreps-g_20160101_00_08_006.pp',\n",
       " '/spice/project/informatics_lab/mogreps-g/2016/prods_op_mogreps-g_20160101_00_09_006.pp',\n",
       " '/spice/project/informatics_lab/mogreps-g/2016/prods_op_mogreps-g_20160101_00_10_006.pp']"
      ]
     },
     "execution_count": 12,
     "metadata": {},
     "output_type": "execute_result"
    }
   ],
   "source": [
    "fnames = [\n",
    "    '/spice/project/informatics_lab/mogreps-g/2016/prods_op_mogreps-g_20160101_00_{}_006.pp'.format(x)\n",
    "    for x in members]\n",
    "fnames"
   ]
  },
  {
   "cell_type": "code",
   "execution_count": 14,
   "metadata": {
    "collapsed": false
   },
   "outputs": [
    {
     "data": {
      "text/plain": [
       "dask.bag<bag-fro..., npartitions=11>"
      ]
     },
     "execution_count": 14,
     "metadata": {},
     "output_type": "execute_result"
    }
   ],
   "source": [
    "cubes = db.from_delayed(map(loading, fnames))\n",
    "cubes"
   ]
  },
  {
   "cell_type": "code",
   "execution_count": 15,
   "metadata": {
    "collapsed": false
   },
   "outputs": [
    {
     "data": {
      "text/plain": [
       "dask.bag<bag-fro..., npartitions=11>"
      ]
     },
     "execution_count": 15,
     "metadata": {},
     "output_type": "execute_result"
    }
   ],
   "source": [
    "p_cubes = c.persist(cubes)\n",
    "p_cubes"
   ]
  },
  {
   "cell_type": "code",
   "execution_count": 16,
   "metadata": {
    "collapsed": false
   },
   "outputs": [
    {
     "data": {
      "text/plain": [
       "[<iris 'Cube' of wet_bulb_freezing_level_altitude / (m) (latitude: 600; longitude: 800)>,\n",
       " <iris 'Cube' of wet_bulb_potential_temperature / (K) (pressure: 3; latitude: 600; longitude: 800)>,\n",
       " <iris 'Cube' of air_pressure_at_sea_level / (Pa) (latitude: 600; longitude: 800)>,\n",
       " <iris 'Cube' of air_temperature / (K) (latitude: 600; longitude: 800)>,\n",
       " <iris 'Cube' of air_temperature / (K) (latitude: 600; longitude: 800)>,\n",
       " <iris 'Cube' of air_temperature / (K) (latitude: 600; longitude: 800)>,\n",
       " <iris 'Cube' of air_temperature / (K) (pressure: 16; latitude: 600; longitude: 800)>,\n",
       " <iris 'Cube' of dew_point_temperature / (K) (latitude: 600; longitude: 800)>,\n",
       " <iris 'Cube' of fog_area_fraction / (1) (latitude: 600; longitude: 800)>,\n",
       " <iris 'Cube' of geopotential_height / (m) (pressure: 9; latitude: 600; longitude: 800)>,\n",
       " <iris 'Cube' of high_type_cloud_area_fraction / (1) (latitude: 600; longitude: 800)>,\n",
       " <iris 'Cube' of low_type_cloud_area_fraction / (1) (latitude: 600; longitude: 800)>,\n",
       " <iris 'Cube' of medium_type_cloud_area_fraction / (1) (latitude: 600; longitude: 800)>,\n",
       " <iris 'Cube' of relative_humidity / (%) (latitude: 600; longitude: 800)>,\n",
       " <iris 'Cube' of relative_humidity / (%) (pressure: 16; latitude: 600; longitude: 800)>,\n",
       " <iris 'Cube' of stratiform_rainfall_amount / (kg m-2) (latitude: 600; longitude: 800)>,\n",
       " <iris 'Cube' of stratiform_snowfall_amount / (kg m-2) (latitude: 600; longitude: 800)>,\n",
       " <iris 'Cube' of surface_downward_eastward_stress / (Pa) (latitude: 600; longitude: 800)>,\n",
       " <iris 'Cube' of surface_downward_northward_stress / (Pa) (latitude: 601; longitude: 800)>,\n",
       " <iris 'Cube' of visibility_in_air / (m) (latitude: 600; longitude: 800)>,\n",
       " <iris 'Cube' of wind_speed_of_gust / (m s-1) (latitude: 600; longitude: 800)>,\n",
       " <iris 'Cube' of wind_speed_of_gust / (m s-1) (latitude: 600; longitude: 800)>,\n",
       " <iris 'Cube' of x_wind / (m s-1) (latitude: 601; longitude: 800)>,\n",
       " <iris 'Cube' of x_wind / (m s-1) (pressure: 16; latitude: 601; longitude: 800)>,\n",
       " <iris 'Cube' of x_wind / (m s-1) (latitude: 600; longitude: 800)>,\n",
       " <iris 'Cube' of y_wind / (m s-1) (latitude: 601; longitude: 800)>,\n",
       " <iris 'Cube' of y_wind / (m s-1) (pressure: 16; latitude: 601; longitude: 800)>,\n",
       " <iris 'Cube' of y_wind / (m s-1) (latitude: 601; longitude: 800)>,\n",
       " <iris 'Cube' of wet_bulb_freezing_level_altitude / (m) (latitude: 600; longitude: 800)>,\n",
       " <iris 'Cube' of wet_bulb_potential_temperature / (K) (pressure: 3; latitude: 600; longitude: 800)>,\n",
       " <iris 'Cube' of air_pressure_at_sea_level / (Pa) (latitude: 600; longitude: 800)>,\n",
       " <iris 'Cube' of air_temperature / (K) (latitude: 600; longitude: 800)>,\n",
       " <iris 'Cube' of air_temperature / (K) (latitude: 600; longitude: 800)>,\n",
       " <iris 'Cube' of air_temperature / (K) (latitude: 600; longitude: 800)>,\n",
       " <iris 'Cube' of air_temperature / (K) (pressure: 16; latitude: 600; longitude: 800)>,\n",
       " <iris 'Cube' of dew_point_temperature / (K) (latitude: 600; longitude: 800)>,\n",
       " <iris 'Cube' of fog_area_fraction / (1) (latitude: 600; longitude: 800)>,\n",
       " <iris 'Cube' of geopotential_height / (m) (pressure: 9; latitude: 600; longitude: 800)>,\n",
       " <iris 'Cube' of high_type_cloud_area_fraction / (1) (latitude: 600; longitude: 800)>,\n",
       " <iris 'Cube' of low_type_cloud_area_fraction / (1) (latitude: 600; longitude: 800)>,\n",
       " <iris 'Cube' of medium_type_cloud_area_fraction / (1) (latitude: 600; longitude: 800)>,\n",
       " <iris 'Cube' of relative_humidity / (%) (latitude: 600; longitude: 800)>,\n",
       " <iris 'Cube' of relative_humidity / (%) (pressure: 16; latitude: 600; longitude: 800)>,\n",
       " <iris 'Cube' of stratiform_rainfall_amount / (kg m-2) (latitude: 600; longitude: 800)>,\n",
       " <iris 'Cube' of stratiform_snowfall_amount / (kg m-2) (latitude: 600; longitude: 800)>,\n",
       " <iris 'Cube' of surface_downward_eastward_stress / (Pa) (latitude: 600; longitude: 800)>,\n",
       " <iris 'Cube' of surface_downward_northward_stress / (Pa) (latitude: 601; longitude: 800)>,\n",
       " <iris 'Cube' of visibility_in_air / (m) (latitude: 600; longitude: 800)>,\n",
       " <iris 'Cube' of wind_speed_of_gust / (m s-1) (latitude: 600; longitude: 800)>,\n",
       " <iris 'Cube' of wind_speed_of_gust / (m s-1) (latitude: 600; longitude: 800)>,\n",
       " <iris 'Cube' of x_wind / (m s-1) (latitude: 601; longitude: 800)>,\n",
       " <iris 'Cube' of x_wind / (m s-1) (pressure: 16; latitude: 601; longitude: 800)>,\n",
       " <iris 'Cube' of x_wind / (m s-1) (latitude: 600; longitude: 800)>,\n",
       " <iris 'Cube' of y_wind / (m s-1) (latitude: 601; longitude: 800)>,\n",
       " <iris 'Cube' of y_wind / (m s-1) (pressure: 16; latitude: 601; longitude: 800)>,\n",
       " <iris 'Cube' of y_wind / (m s-1) (latitude: 601; longitude: 800)>,\n",
       " <iris 'Cube' of wet_bulb_freezing_level_altitude / (m) (latitude: 600; longitude: 800)>,\n",
       " <iris 'Cube' of wet_bulb_potential_temperature / (K) (pressure: 3; latitude: 600; longitude: 800)>,\n",
       " <iris 'Cube' of air_pressure_at_sea_level / (Pa) (latitude: 600; longitude: 800)>,\n",
       " <iris 'Cube' of air_temperature / (K) (latitude: 600; longitude: 800)>,\n",
       " <iris 'Cube' of air_temperature / (K) (latitude: 600; longitude: 800)>,\n",
       " <iris 'Cube' of air_temperature / (K) (latitude: 600; longitude: 800)>,\n",
       " <iris 'Cube' of air_temperature / (K) (pressure: 16; latitude: 600; longitude: 800)>,\n",
       " <iris 'Cube' of dew_point_temperature / (K) (latitude: 600; longitude: 800)>,\n",
       " <iris 'Cube' of fog_area_fraction / (1) (latitude: 600; longitude: 800)>,\n",
       " <iris 'Cube' of geopotential_height / (m) (pressure: 9; latitude: 600; longitude: 800)>,\n",
       " <iris 'Cube' of high_type_cloud_area_fraction / (1) (latitude: 600; longitude: 800)>,\n",
       " <iris 'Cube' of low_type_cloud_area_fraction / (1) (latitude: 600; longitude: 800)>,\n",
       " <iris 'Cube' of medium_type_cloud_area_fraction / (1) (latitude: 600; longitude: 800)>,\n",
       " <iris 'Cube' of relative_humidity / (%) (latitude: 600; longitude: 800)>,\n",
       " <iris 'Cube' of relative_humidity / (%) (pressure: 16; latitude: 600; longitude: 800)>,\n",
       " <iris 'Cube' of stratiform_rainfall_amount / (kg m-2) (latitude: 600; longitude: 800)>,\n",
       " <iris 'Cube' of stratiform_snowfall_amount / (kg m-2) (latitude: 600; longitude: 800)>,\n",
       " <iris 'Cube' of surface_downward_eastward_stress / (Pa) (latitude: 600; longitude: 800)>,\n",
       " <iris 'Cube' of surface_downward_northward_stress / (Pa) (latitude: 601; longitude: 800)>,\n",
       " <iris 'Cube' of visibility_in_air / (m) (latitude: 600; longitude: 800)>,\n",
       " <iris 'Cube' of wind_speed_of_gust / (m s-1) (latitude: 600; longitude: 800)>,\n",
       " <iris 'Cube' of wind_speed_of_gust / (m s-1) (latitude: 600; longitude: 800)>,\n",
       " <iris 'Cube' of x_wind / (m s-1) (latitude: 601; longitude: 800)>,\n",
       " <iris 'Cube' of x_wind / (m s-1) (pressure: 16; latitude: 601; longitude: 800)>,\n",
       " <iris 'Cube' of x_wind / (m s-1) (latitude: 600; longitude: 800)>,\n",
       " <iris 'Cube' of y_wind / (m s-1) (latitude: 601; longitude: 800)>,\n",
       " <iris 'Cube' of y_wind / (m s-1) (pressure: 16; latitude: 601; longitude: 800)>,\n",
       " <iris 'Cube' of y_wind / (m s-1) (latitude: 601; longitude: 800)>,\n",
       " <iris 'Cube' of wet_bulb_freezing_level_altitude / (m) (latitude: 600; longitude: 800)>,\n",
       " <iris 'Cube' of wet_bulb_potential_temperature / (K) (pressure: 3; latitude: 600; longitude: 800)>,\n",
       " <iris 'Cube' of air_pressure_at_sea_level / (Pa) (latitude: 600; longitude: 800)>,\n",
       " <iris 'Cube' of air_temperature / (K) (latitude: 600; longitude: 800)>,\n",
       " <iris 'Cube' of air_temperature / (K) (latitude: 600; longitude: 800)>,\n",
       " <iris 'Cube' of air_temperature / (K) (latitude: 600; longitude: 800)>,\n",
       " <iris 'Cube' of air_temperature / (K) (pressure: 16; latitude: 600; longitude: 800)>,\n",
       " <iris 'Cube' of dew_point_temperature / (K) (latitude: 600; longitude: 800)>,\n",
       " <iris 'Cube' of fog_area_fraction / (1) (latitude: 600; longitude: 800)>,\n",
       " <iris 'Cube' of geopotential_height / (m) (pressure: 9; latitude: 600; longitude: 800)>,\n",
       " <iris 'Cube' of high_type_cloud_area_fraction / (1) (latitude: 600; longitude: 800)>,\n",
       " <iris 'Cube' of low_type_cloud_area_fraction / (1) (latitude: 600; longitude: 800)>,\n",
       " <iris 'Cube' of medium_type_cloud_area_fraction / (1) (latitude: 600; longitude: 800)>,\n",
       " <iris 'Cube' of relative_humidity / (%) (latitude: 600; longitude: 800)>,\n",
       " <iris 'Cube' of relative_humidity / (%) (pressure: 16; latitude: 600; longitude: 800)>,\n",
       " <iris 'Cube' of stratiform_rainfall_amount / (kg m-2) (latitude: 600; longitude: 800)>,\n",
       " <iris 'Cube' of stratiform_snowfall_amount / (kg m-2) (latitude: 600; longitude: 800)>,\n",
       " <iris 'Cube' of surface_downward_eastward_stress / (Pa) (latitude: 600; longitude: 800)>,\n",
       " <iris 'Cube' of surface_downward_northward_stress / (Pa) (latitude: 601; longitude: 800)>,\n",
       " <iris 'Cube' of visibility_in_air / (m) (latitude: 600; longitude: 800)>,\n",
       " <iris 'Cube' of wind_speed_of_gust / (m s-1) (latitude: 600; longitude: 800)>,\n",
       " <iris 'Cube' of wind_speed_of_gust / (m s-1) (latitude: 600; longitude: 800)>,\n",
       " <iris 'Cube' of x_wind / (m s-1) (latitude: 601; longitude: 800)>,\n",
       " <iris 'Cube' of x_wind / (m s-1) (pressure: 16; latitude: 601; longitude: 800)>,\n",
       " <iris 'Cube' of x_wind / (m s-1) (latitude: 600; longitude: 800)>,\n",
       " <iris 'Cube' of y_wind / (m s-1) (latitude: 601; longitude: 800)>,\n",
       " <iris 'Cube' of y_wind / (m s-1) (pressure: 16; latitude: 601; longitude: 800)>,\n",
       " <iris 'Cube' of y_wind / (m s-1) (latitude: 601; longitude: 800)>,\n",
       " <iris 'Cube' of wet_bulb_freezing_level_altitude / (m) (latitude: 600; longitude: 800)>,\n",
       " <iris 'Cube' of wet_bulb_potential_temperature / (K) (pressure: 3; latitude: 600; longitude: 800)>,\n",
       " <iris 'Cube' of air_pressure_at_sea_level / (Pa) (latitude: 600; longitude: 800)>,\n",
       " <iris 'Cube' of air_temperature / (K) (latitude: 600; longitude: 800)>,\n",
       " <iris 'Cube' of air_temperature / (K) (latitude: 600; longitude: 800)>,\n",
       " <iris 'Cube' of air_temperature / (K) (latitude: 600; longitude: 800)>,\n",
       " <iris 'Cube' of air_temperature / (K) (pressure: 16; latitude: 600; longitude: 800)>,\n",
       " <iris 'Cube' of dew_point_temperature / (K) (latitude: 600; longitude: 800)>,\n",
       " <iris 'Cube' of fog_area_fraction / (1) (latitude: 600; longitude: 800)>,\n",
       " <iris 'Cube' of geopotential_height / (m) (pressure: 9; latitude: 600; longitude: 800)>,\n",
       " <iris 'Cube' of high_type_cloud_area_fraction / (1) (latitude: 600; longitude: 800)>,\n",
       " <iris 'Cube' of low_type_cloud_area_fraction / (1) (latitude: 600; longitude: 800)>,\n",
       " <iris 'Cube' of medium_type_cloud_area_fraction / (1) (latitude: 600; longitude: 800)>,\n",
       " <iris 'Cube' of relative_humidity / (%) (latitude: 600; longitude: 800)>,\n",
       " <iris 'Cube' of relative_humidity / (%) (pressure: 16; latitude: 600; longitude: 800)>,\n",
       " <iris 'Cube' of stratiform_rainfall_amount / (kg m-2) (latitude: 600; longitude: 800)>,\n",
       " <iris 'Cube' of stratiform_snowfall_amount / (kg m-2) (latitude: 600; longitude: 800)>,\n",
       " <iris 'Cube' of surface_downward_eastward_stress / (Pa) (latitude: 600; longitude: 800)>,\n",
       " <iris 'Cube' of surface_downward_northward_stress / (Pa) (latitude: 601; longitude: 800)>,\n",
       " <iris 'Cube' of visibility_in_air / (m) (latitude: 600; longitude: 800)>,\n",
       " <iris 'Cube' of wind_speed_of_gust / (m s-1) (latitude: 600; longitude: 800)>,\n",
       " <iris 'Cube' of wind_speed_of_gust / (m s-1) (latitude: 600; longitude: 800)>,\n",
       " <iris 'Cube' of x_wind / (m s-1) (latitude: 601; longitude: 800)>,\n",
       " <iris 'Cube' of x_wind / (m s-1) (pressure: 16; latitude: 601; longitude: 800)>,\n",
       " <iris 'Cube' of x_wind / (m s-1) (latitude: 600; longitude: 800)>,\n",
       " <iris 'Cube' of y_wind / (m s-1) (latitude: 601; longitude: 800)>,\n",
       " <iris 'Cube' of y_wind / (m s-1) (pressure: 16; latitude: 601; longitude: 800)>,\n",
       " <iris 'Cube' of y_wind / (m s-1) (latitude: 601; longitude: 800)>,\n",
       " <iris 'Cube' of wet_bulb_freezing_level_altitude / (m) (latitude: 600; longitude: 800)>,\n",
       " <iris 'Cube' of wet_bulb_potential_temperature / (K) (pressure: 3; latitude: 600; longitude: 800)>,\n",
       " <iris 'Cube' of air_pressure_at_sea_level / (Pa) (latitude: 600; longitude: 800)>,\n",
       " <iris 'Cube' of air_temperature / (K) (latitude: 600; longitude: 800)>,\n",
       " <iris 'Cube' of air_temperature / (K) (latitude: 600; longitude: 800)>,\n",
       " <iris 'Cube' of air_temperature / (K) (latitude: 600; longitude: 800)>,\n",
       " <iris 'Cube' of air_temperature / (K) (pressure: 16; latitude: 600; longitude: 800)>,\n",
       " <iris 'Cube' of dew_point_temperature / (K) (latitude: 600; longitude: 800)>,\n",
       " <iris 'Cube' of fog_area_fraction / (1) (latitude: 600; longitude: 800)>,\n",
       " <iris 'Cube' of geopotential_height / (m) (pressure: 9; latitude: 600; longitude: 800)>,\n",
       " <iris 'Cube' of high_type_cloud_area_fraction / (1) (latitude: 600; longitude: 800)>,\n",
       " <iris 'Cube' of low_type_cloud_area_fraction / (1) (latitude: 600; longitude: 800)>,\n",
       " <iris 'Cube' of medium_type_cloud_area_fraction / (1) (latitude: 600; longitude: 800)>,\n",
       " <iris 'Cube' of relative_humidity / (%) (latitude: 600; longitude: 800)>,\n",
       " <iris 'Cube' of relative_humidity / (%) (pressure: 16; latitude: 600; longitude: 800)>,\n",
       " <iris 'Cube' of stratiform_rainfall_amount / (kg m-2) (latitude: 600; longitude: 800)>,\n",
       " <iris 'Cube' of stratiform_snowfall_amount / (kg m-2) (latitude: 600; longitude: 800)>,\n",
       " <iris 'Cube' of surface_downward_eastward_stress / (Pa) (latitude: 600; longitude: 800)>,\n",
       " <iris 'Cube' of surface_downward_northward_stress / (Pa) (latitude: 601; longitude: 800)>,\n",
       " <iris 'Cube' of visibility_in_air / (m) (latitude: 600; longitude: 800)>,\n",
       " <iris 'Cube' of wind_speed_of_gust / (m s-1) (latitude: 600; longitude: 800)>,\n",
       " <iris 'Cube' of wind_speed_of_gust / (m s-1) (latitude: 600; longitude: 800)>,\n",
       " <iris 'Cube' of x_wind / (m s-1) (latitude: 601; longitude: 800)>,\n",
       " <iris 'Cube' of x_wind / (m s-1) (pressure: 16; latitude: 601; longitude: 800)>,\n",
       " <iris 'Cube' of x_wind / (m s-1) (latitude: 600; longitude: 800)>,\n",
       " <iris 'Cube' of y_wind / (m s-1) (latitude: 601; longitude: 800)>,\n",
       " <iris 'Cube' of y_wind / (m s-1) (pressure: 16; latitude: 601; longitude: 800)>,\n",
       " <iris 'Cube' of y_wind / (m s-1) (latitude: 601; longitude: 800)>,\n",
       " <iris 'Cube' of wet_bulb_freezing_level_altitude / (m) (latitude: 600; longitude: 800)>,\n",
       " <iris 'Cube' of wet_bulb_potential_temperature / (K) (pressure: 3; latitude: 600; longitude: 800)>,\n",
       " <iris 'Cube' of air_pressure_at_sea_level / (Pa) (latitude: 600; longitude: 800)>,\n",
       " <iris 'Cube' of air_temperature / (K) (latitude: 600; longitude: 800)>,\n",
       " <iris 'Cube' of air_temperature / (K) (latitude: 600; longitude: 800)>,\n",
       " <iris 'Cube' of air_temperature / (K) (latitude: 600; longitude: 800)>,\n",
       " <iris 'Cube' of air_temperature / (K) (pressure: 16; latitude: 600; longitude: 800)>,\n",
       " <iris 'Cube' of dew_point_temperature / (K) (latitude: 600; longitude: 800)>,\n",
       " <iris 'Cube' of fog_area_fraction / (1) (latitude: 600; longitude: 800)>,\n",
       " <iris 'Cube' of geopotential_height / (m) (pressure: 9; latitude: 600; longitude: 800)>,\n",
       " <iris 'Cube' of high_type_cloud_area_fraction / (1) (latitude: 600; longitude: 800)>,\n",
       " <iris 'Cube' of low_type_cloud_area_fraction / (1) (latitude: 600; longitude: 800)>,\n",
       " <iris 'Cube' of medium_type_cloud_area_fraction / (1) (latitude: 600; longitude: 800)>,\n",
       " <iris 'Cube' of relative_humidity / (%) (latitude: 600; longitude: 800)>,\n",
       " <iris 'Cube' of relative_humidity / (%) (pressure: 16; latitude: 600; longitude: 800)>,\n",
       " <iris 'Cube' of stratiform_rainfall_amount / (kg m-2) (latitude: 600; longitude: 800)>,\n",
       " <iris 'Cube' of stratiform_snowfall_amount / (kg m-2) (latitude: 600; longitude: 800)>,\n",
       " <iris 'Cube' of surface_downward_eastward_stress / (Pa) (latitude: 600; longitude: 800)>,\n",
       " <iris 'Cube' of surface_downward_northward_stress / (Pa) (latitude: 601; longitude: 800)>,\n",
       " <iris 'Cube' of visibility_in_air / (m) (latitude: 600; longitude: 800)>,\n",
       " <iris 'Cube' of wind_speed_of_gust / (m s-1) (latitude: 600; longitude: 800)>,\n",
       " <iris 'Cube' of wind_speed_of_gust / (m s-1) (latitude: 600; longitude: 800)>,\n",
       " <iris 'Cube' of x_wind / (m s-1) (latitude: 601; longitude: 800)>,\n",
       " <iris 'Cube' of x_wind / (m s-1) (pressure: 16; latitude: 601; longitude: 800)>,\n",
       " <iris 'Cube' of x_wind / (m s-1) (latitude: 600; longitude: 800)>,\n",
       " <iris 'Cube' of y_wind / (m s-1) (latitude: 601; longitude: 800)>,\n",
       " <iris 'Cube' of y_wind / (m s-1) (pressure: 16; latitude: 601; longitude: 800)>,\n",
       " <iris 'Cube' of y_wind / (m s-1) (latitude: 601; longitude: 800)>,\n",
       " <iris 'Cube' of wet_bulb_freezing_level_altitude / (m) (latitude: 600; longitude: 800)>,\n",
       " <iris 'Cube' of wet_bulb_potential_temperature / (K) (pressure: 3; latitude: 600; longitude: 800)>,\n",
       " <iris 'Cube' of air_pressure_at_sea_level / (Pa) (latitude: 600; longitude: 800)>,\n",
       " <iris 'Cube' of air_temperature / (K) (latitude: 600; longitude: 800)>,\n",
       " <iris 'Cube' of air_temperature / (K) (latitude: 600; longitude: 800)>,\n",
       " <iris 'Cube' of air_temperature / (K) (latitude: 600; longitude: 800)>,\n",
       " <iris 'Cube' of air_temperature / (K) (pressure: 16; latitude: 600; longitude: 800)>,\n",
       " <iris 'Cube' of dew_point_temperature / (K) (latitude: 600; longitude: 800)>,\n",
       " <iris 'Cube' of fog_area_fraction / (1) (latitude: 600; longitude: 800)>,\n",
       " <iris 'Cube' of geopotential_height / (m) (pressure: 9; latitude: 600; longitude: 800)>,\n",
       " <iris 'Cube' of high_type_cloud_area_fraction / (1) (latitude: 600; longitude: 800)>,\n",
       " <iris 'Cube' of low_type_cloud_area_fraction / (1) (latitude: 600; longitude: 800)>,\n",
       " <iris 'Cube' of medium_type_cloud_area_fraction / (1) (latitude: 600; longitude: 800)>,\n",
       " <iris 'Cube' of relative_humidity / (%) (latitude: 600; longitude: 800)>,\n",
       " <iris 'Cube' of relative_humidity / (%) (pressure: 16; latitude: 600; longitude: 800)>,\n",
       " <iris 'Cube' of stratiform_rainfall_amount / (kg m-2) (latitude: 600; longitude: 800)>,\n",
       " <iris 'Cube' of stratiform_snowfall_amount / (kg m-2) (latitude: 600; longitude: 800)>,\n",
       " <iris 'Cube' of surface_downward_eastward_stress / (Pa) (latitude: 600; longitude: 800)>,\n",
       " <iris 'Cube' of surface_downward_northward_stress / (Pa) (latitude: 601; longitude: 800)>,\n",
       " <iris 'Cube' of visibility_in_air / (m) (latitude: 600; longitude: 800)>,\n",
       " <iris 'Cube' of wind_speed_of_gust / (m s-1) (latitude: 600; longitude: 800)>,\n",
       " <iris 'Cube' of wind_speed_of_gust / (m s-1) (latitude: 600; longitude: 800)>,\n",
       " <iris 'Cube' of x_wind / (m s-1) (latitude: 601; longitude: 800)>,\n",
       " <iris 'Cube' of x_wind / (m s-1) (pressure: 16; latitude: 601; longitude: 800)>,\n",
       " <iris 'Cube' of x_wind / (m s-1) (latitude: 600; longitude: 800)>,\n",
       " <iris 'Cube' of y_wind / (m s-1) (latitude: 601; longitude: 800)>,\n",
       " <iris 'Cube' of y_wind / (m s-1) (pressure: 16; latitude: 601; longitude: 800)>,\n",
       " <iris 'Cube' of y_wind / (m s-1) (latitude: 601; longitude: 800)>,\n",
       " <iris 'Cube' of wet_bulb_freezing_level_altitude / (m) (latitude: 600; longitude: 800)>,\n",
       " <iris 'Cube' of wet_bulb_potential_temperature / (K) (pressure: 3; latitude: 600; longitude: 800)>,\n",
       " <iris 'Cube' of air_pressure_at_sea_level / (Pa) (latitude: 600; longitude: 800)>,\n",
       " <iris 'Cube' of air_temperature / (K) (latitude: 600; longitude: 800)>,\n",
       " <iris 'Cube' of air_temperature / (K) (latitude: 600; longitude: 800)>,\n",
       " <iris 'Cube' of air_temperature / (K) (latitude: 600; longitude: 800)>,\n",
       " <iris 'Cube' of air_temperature / (K) (pressure: 16; latitude: 600; longitude: 800)>,\n",
       " <iris 'Cube' of dew_point_temperature / (K) (latitude: 600; longitude: 800)>,\n",
       " <iris 'Cube' of fog_area_fraction / (1) (latitude: 600; longitude: 800)>,\n",
       " <iris 'Cube' of geopotential_height / (m) (pressure: 9; latitude: 600; longitude: 800)>,\n",
       " <iris 'Cube' of high_type_cloud_area_fraction / (1) (latitude: 600; longitude: 800)>,\n",
       " <iris 'Cube' of low_type_cloud_area_fraction / (1) (latitude: 600; longitude: 800)>,\n",
       " <iris 'Cube' of medium_type_cloud_area_fraction / (1) (latitude: 600; longitude: 800)>,\n",
       " <iris 'Cube' of relative_humidity / (%) (latitude: 600; longitude: 800)>,\n",
       " <iris 'Cube' of relative_humidity / (%) (pressure: 16; latitude: 600; longitude: 800)>,\n",
       " <iris 'Cube' of stratiform_rainfall_amount / (kg m-2) (latitude: 600; longitude: 800)>,\n",
       " <iris 'Cube' of stratiform_snowfall_amount / (kg m-2) (latitude: 600; longitude: 800)>,\n",
       " <iris 'Cube' of surface_downward_eastward_stress / (Pa) (latitude: 600; longitude: 800)>,\n",
       " <iris 'Cube' of surface_downward_northward_stress / (Pa) (latitude: 601; longitude: 800)>,\n",
       " <iris 'Cube' of visibility_in_air / (m) (latitude: 600; longitude: 800)>,\n",
       " <iris 'Cube' of wind_speed_of_gust / (m s-1) (latitude: 600; longitude: 800)>,\n",
       " <iris 'Cube' of wind_speed_of_gust / (m s-1) (latitude: 600; longitude: 800)>,\n",
       " <iris 'Cube' of x_wind / (m s-1) (latitude: 601; longitude: 800)>,\n",
       " <iris 'Cube' of x_wind / (m s-1) (pressure: 16; latitude: 601; longitude: 800)>,\n",
       " <iris 'Cube' of x_wind / (m s-1) (latitude: 600; longitude: 800)>,\n",
       " <iris 'Cube' of y_wind / (m s-1) (latitude: 601; longitude: 800)>,\n",
       " <iris 'Cube' of y_wind / (m s-1) (pressure: 16; latitude: 601; longitude: 800)>,\n",
       " <iris 'Cube' of y_wind / (m s-1) (latitude: 601; longitude: 800)>,\n",
       " <iris 'Cube' of wet_bulb_freezing_level_altitude / (m) (latitude: 600; longitude: 800)>,\n",
       " <iris 'Cube' of wet_bulb_potential_temperature / (K) (pressure: 3; latitude: 600; longitude: 800)>,\n",
       " <iris 'Cube' of air_pressure_at_sea_level / (Pa) (latitude: 600; longitude: 800)>,\n",
       " <iris 'Cube' of air_temperature / (K) (latitude: 600; longitude: 800)>,\n",
       " <iris 'Cube' of air_temperature / (K) (latitude: 600; longitude: 800)>,\n",
       " <iris 'Cube' of air_temperature / (K) (latitude: 600; longitude: 800)>,\n",
       " <iris 'Cube' of air_temperature / (K) (pressure: 16; latitude: 600; longitude: 800)>,\n",
       " <iris 'Cube' of dew_point_temperature / (K) (latitude: 600; longitude: 800)>,\n",
       " <iris 'Cube' of fog_area_fraction / (1) (latitude: 600; longitude: 800)>,\n",
       " <iris 'Cube' of geopotential_height / (m) (pressure: 9; latitude: 600; longitude: 800)>,\n",
       " <iris 'Cube' of high_type_cloud_area_fraction / (1) (latitude: 600; longitude: 800)>,\n",
       " <iris 'Cube' of low_type_cloud_area_fraction / (1) (latitude: 600; longitude: 800)>,\n",
       " <iris 'Cube' of medium_type_cloud_area_fraction / (1) (latitude: 600; longitude: 800)>,\n",
       " <iris 'Cube' of relative_humidity / (%) (latitude: 600; longitude: 800)>,\n",
       " <iris 'Cube' of relative_humidity / (%) (pressure: 16; latitude: 600; longitude: 800)>,\n",
       " <iris 'Cube' of stratiform_rainfall_amount / (kg m-2) (latitude: 600; longitude: 800)>,\n",
       " <iris 'Cube' of stratiform_snowfall_amount / (kg m-2) (latitude: 600; longitude: 800)>,\n",
       " <iris 'Cube' of surface_downward_eastward_stress / (Pa) (latitude: 600; longitude: 800)>,\n",
       " <iris 'Cube' of surface_downward_northward_stress / (Pa) (latitude: 601; longitude: 800)>,\n",
       " <iris 'Cube' of visibility_in_air / (m) (latitude: 600; longitude: 800)>,\n",
       " <iris 'Cube' of wind_speed_of_gust / (m s-1) (latitude: 600; longitude: 800)>,\n",
       " <iris 'Cube' of wind_speed_of_gust / (m s-1) (latitude: 600; longitude: 800)>,\n",
       " <iris 'Cube' of x_wind / (m s-1) (latitude: 601; longitude: 800)>,\n",
       " <iris 'Cube' of x_wind / (m s-1) (pressure: 16; latitude: 601; longitude: 800)>,\n",
       " <iris 'Cube' of x_wind / (m s-1) (latitude: 600; longitude: 800)>,\n",
       " <iris 'Cube' of y_wind / (m s-1) (latitude: 601; longitude: 800)>,\n",
       " <iris 'Cube' of y_wind / (m s-1) (pressure: 16; latitude: 601; longitude: 800)>,\n",
       " <iris 'Cube' of y_wind / (m s-1) (latitude: 601; longitude: 800)>,\n",
       " <iris 'Cube' of wet_bulb_freezing_level_altitude / (m) (latitude: 600; longitude: 800)>,\n",
       " <iris 'Cube' of wet_bulb_potential_temperature / (K) (pressure: 3; latitude: 600; longitude: 800)>,\n",
       " <iris 'Cube' of air_pressure_at_sea_level / (Pa) (latitude: 600; longitude: 800)>,\n",
       " <iris 'Cube' of air_temperature / (K) (latitude: 600; longitude: 800)>,\n",
       " <iris 'Cube' of air_temperature / (K) (latitude: 600; longitude: 800)>,\n",
       " <iris 'Cube' of air_temperature / (K) (latitude: 600; longitude: 800)>,\n",
       " <iris 'Cube' of air_temperature / (K) (pressure: 16; latitude: 600; longitude: 800)>,\n",
       " <iris 'Cube' of dew_point_temperature / (K) (latitude: 600; longitude: 800)>,\n",
       " <iris 'Cube' of fog_area_fraction / (1) (latitude: 600; longitude: 800)>,\n",
       " <iris 'Cube' of geopotential_height / (m) (pressure: 9; latitude: 600; longitude: 800)>,\n",
       " <iris 'Cube' of high_type_cloud_area_fraction / (1) (latitude: 600; longitude: 800)>,\n",
       " <iris 'Cube' of low_type_cloud_area_fraction / (1) (latitude: 600; longitude: 800)>,\n",
       " <iris 'Cube' of medium_type_cloud_area_fraction / (1) (latitude: 600; longitude: 800)>,\n",
       " <iris 'Cube' of relative_humidity / (%) (latitude: 600; longitude: 800)>,\n",
       " <iris 'Cube' of relative_humidity / (%) (pressure: 16; latitude: 600; longitude: 800)>,\n",
       " <iris 'Cube' of stratiform_rainfall_amount / (kg m-2) (latitude: 600; longitude: 800)>,\n",
       " <iris 'Cube' of stratiform_snowfall_amount / (kg m-2) (latitude: 600; longitude: 800)>,\n",
       " <iris 'Cube' of surface_downward_eastward_stress / (Pa) (latitude: 600; longitude: 800)>,\n",
       " <iris 'Cube' of surface_downward_northward_stress / (Pa) (latitude: 601; longitude: 800)>,\n",
       " <iris 'Cube' of visibility_in_air / (m) (latitude: 600; longitude: 800)>,\n",
       " <iris 'Cube' of wind_speed_of_gust / (m s-1) (latitude: 600; longitude: 800)>,\n",
       " <iris 'Cube' of wind_speed_of_gust / (m s-1) (latitude: 600; longitude: 800)>,\n",
       " <iris 'Cube' of x_wind / (m s-1) (latitude: 601; longitude: 800)>,\n",
       " <iris 'Cube' of x_wind / (m s-1) (pressure: 16; latitude: 601; longitude: 800)>,\n",
       " <iris 'Cube' of x_wind / (m s-1) (latitude: 600; longitude: 800)>,\n",
       " <iris 'Cube' of y_wind / (m s-1) (latitude: 601; longitude: 800)>,\n",
       " <iris 'Cube' of y_wind / (m s-1) (pressure: 16; latitude: 601; longitude: 800)>,\n",
       " <iris 'Cube' of y_wind / (m s-1) (latitude: 601; longitude: 800)>]"
      ]
     },
     "execution_count": 16,
     "metadata": {},
     "output_type": "execute_result"
    }
   ],
   "source": [
    "list(p_cubes)"
   ]
  },
  {
   "cell_type": "code",
   "execution_count": null,
   "metadata": {
    "collapsed": true
   },
   "outputs": [],
   "source": []
  }
 ],
 "metadata": {
  "kernelspec": {
   "display_name": "Python 2",
   "language": "python",
   "name": "python2"
  },
  "language_info": {
   "codemirror_mode": {
    "name": "ipython",
    "version": 2
   },
   "file_extension": ".py",
   "mimetype": "text/x-python",
   "name": "python",
   "nbconvert_exporter": "python",
   "pygments_lexer": "ipython2",
   "version": "2.7.12"
  }
 },
 "nbformat": 4,
 "nbformat_minor": 2
}
